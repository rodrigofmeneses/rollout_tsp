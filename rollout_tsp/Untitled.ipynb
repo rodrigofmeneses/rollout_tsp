{
 "cells": [
  {
   "cell_type": "code",
   "execution_count": 122,
   "id": "steady-corrections",
   "metadata": {},
   "outputs": [],
   "source": [
    "import tsplib95\n",
    "import networkx\n",
    "import numpy"
   ]
  },
  {
   "cell_type": "code",
   "execution_count": 97,
   "id": "surface-cross",
   "metadata": {},
   "outputs": [],
   "source": [
    "problem = tsplib95.load('../instances/others/ALL_tsp/st70.tsp')"
   ]
  },
  {
   "cell_type": "code",
   "execution_count": 98,
   "id": "reflected-gibraltar",
   "metadata": {},
   "outputs": [],
   "source": [
    "graph = problem.get_graph()"
   ]
  },
  {
   "cell_type": "code",
   "execution_count": 107,
   "id": "victorian-holmes",
   "metadata": {
    "scrolled": true
   },
   "outputs": [
    {
     "data": {
      "text/plain": [
       "'TSP'"
      ]
     },
     "execution_count": 107,
     "metadata": {},
     "output_type": "execute_result"
    }
   ],
   "source": [
    "problem.type"
   ]
  },
  {
   "cell_type": "code",
   "execution_count": 108,
   "id": "functional-summit",
   "metadata": {},
   "outputs": [
    {
     "data": {
      "text/plain": [
       "'EUC_2D'"
      ]
     },
     "execution_count": 108,
     "metadata": {},
     "output_type": "execute_result"
    }
   ],
   "source": [
    "problem.edge_weight_type"
   ]
  },
  {
   "cell_type": "code",
   "execution_count": 145,
   "id": "quick-latter",
   "metadata": {},
   "outputs": [],
   "source": [
    "if problem.is_symmetric():\n",
    "    n = problem.dimension\n",
    "    distance_matrix = numpy.zeros((n, n))\n",
    "    for i in range(n):\n",
    "        for j in range(i + 1, n):\n",
    "            distance_matrix[i, j] = problem.get_weight(i + 1, j + 1)"
   ]
  }
 ],
 "metadata": {
  "kernelspec": {
   "display_name": "Python 3",
   "language": "python",
   "name": "python3"
  },
  "language_info": {
   "codemirror_mode": {
    "name": "ipython",
    "version": 3
   },
   "file_extension": ".py",
   "mimetype": "text/x-python",
   "name": "python",
   "nbconvert_exporter": "python",
   "pygments_lexer": "ipython3",
   "version": "3.8.5"
  }
 },
 "nbformat": 4,
 "nbformat_minor": 5
}
