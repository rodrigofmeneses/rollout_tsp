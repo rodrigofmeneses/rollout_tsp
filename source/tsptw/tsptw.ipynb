{
 "cells": [
  {
   "cell_type": "code",
   "execution_count": 6,
   "metadata": {},
   "outputs": [],
   "source": [
    "import os\r\n",
    "from scipy.spatial.distance import pdist\r\n",
    "from scipy.spatial.distance import squareform"
   ]
  },
  {
   "cell_type": "code",
   "execution_count": 7,
   "metadata": {},
   "outputs": [],
   "source": [
    "# os.listdir('../../instances/tsptw_data/')\r\n",
    "instance_author = 'DaSilvaUrrutia'\r\n",
    "instance_author = 'DumasEtAL'\r\n",
    "instance_author = 'GendreauEtAl'\r\n",
    "instance_author = 'OhlmannThomas'\r\n",
    "\r\n",
    "def read_data(path):\r\n",
    "    instance_author = path.split('/')[-2]\r\n",
    "    coordinates = []\r\n",
    "    intervals = []\r\n",
    "\r\n",
    "    if instance_author == 'DaSilvaUrrutia':\r\n",
    "        with open(path, 'r') as reader:\r\n",
    "            reader.readline()\r\n",
    "            for line in reader:\r\n",
    "                _, x, y, _, a, b, _ = line.split()\r\n",
    "                \r\n",
    "                coordinates.append((float(x), float(y)))\r\n",
    "                intervals.append((float(a), float(b)))\r\n",
    "\r\n",
    "    elif instance_author == 'DumasEtAl':\r\n",
    "        with open(path, 'r') as reader:        \r\n",
    "            [reader.readline() for i in range(6)]\r\n",
    "            for line in reader:\r\n",
    "                _, x, y, _, a, b, _ = line.split()\r\n",
    "                    \r\n",
    "                coordinates.append((float(x), float(y)))\r\n",
    "                intervals.append((float(a), float(b)))\r\n",
    "            \r\n",
    "            coordinates.pop()\r\n",
    "            intervals.pop()\r\n",
    "\r\n",
    "    elif instance_author == 'GendreauEtAl':\r\n",
    "        with open(path, 'r') as reader:        \r\n",
    "            [reader.readline() for i in range(6)]\r\n",
    "            for line in reader:\r\n",
    "                _, x, y, _, a, b, _ = line.split()\r\n",
    "                    \r\n",
    "                coordinates.append((float(x), float(y)))\r\n",
    "                intervals.append((float(a), float(b)))\r\n",
    "            \r\n",
    "            coordinates.pop()\r\n",
    "            intervals.pop()\r\n",
    "\r\n",
    "    elif instance_author == 'OhlmannThomas':\r\n",
    "        with open(path, 'r') as reader:        \r\n",
    "            [reader.readline() for i in range(6)]\r\n",
    "            for line in reader:\r\n",
    "                _, x, y, _, a, b, _ = line.split()\r\n",
    "                    \r\n",
    "                coordinates.append((float(x), float(y)))\r\n",
    "                intervals.append((float(a), float(b)))\r\n",
    "            \r\n",
    "            coordinates.pop()\r\n",
    "            intervals.pop()\r\n",
    "\r\n",
    "    problem = {\r\n",
    "        'coordinates': coordinates,\r\n",
    "        'intervals': intervals,\r\n",
    "        'distance_matrix': squareform(pdist(coordinates)),\r\n",
    "        'dimension': len(coordinates)\r\n",
    "    }\r\n",
    "    \r\n",
    "    return problem"
   ]
  },
  {
   "cell_type": "code",
   "execution_count": 10,
   "metadata": {},
   "outputs": [],
   "source": [
    "def calculate_solution_cost(solution, distance_matrix):\r\n",
    "    '''\r\n",
    "        Calc cost of solution.\r\n",
    "        solution: solution of traveler, ex:\r\n",
    "        [0, 2, 4, 1, 3, 0]  <- for 5 cities and starting city is 0 \r\n",
    "        distance_matrix: costs of arcs\r\n",
    "        return: cost of solution\r\n",
    "    '''\r\n",
    "    cost = 0.\r\n",
    "    for i in range(len(solution) - 1):\r\n",
    "        cost += distance_matrix[solution[i]][solution[i+1]]\r\n",
    "    return cost"
   ]
  },
  {
   "cell_type": "code",
   "execution_count": null,
   "metadata": {},
   "outputs": [],
   "source": [
    "def is_viable(solution, distance_matrix, intervals):\r\n",
    "    '''\r\n",
    "        t\r\n",
    "    '''\r\n",
    "    \r\n",
    "    if len(solution) != len(intervals):\r\n",
    "        return False\r\n",
    "\r\n",
    "    t = 0\r\n",
    "    current_city = solution[0]\r\n",
    "    \r\n",
    "    for i in solution[1:]:\r\n",
    "        t += distance_matrix[current_city, i]\r\n",
    "        if t <= intervals[0] or t >= intervals[1]:\r\n",
    "            return False\r\n",
    "    \r\n",
    "    return True"
   ]
  },
  {
   "cell_type": "code",
   "execution_count": 11,
   "metadata": {},
   "outputs": [
    {
     "name": "stdout",
     "output_type": "stream",
     "text": [
      "94.72961246326201\n"
     ]
    }
   ],
   "source": [
    "path = '../../instances/tsptw_data/DumasEtAl/n20w20.001.txt'\r\n",
    "problem = read_data(path)\r\n",
    "\r\n",
    "calculate_solution_cost([1,2,3,4], problem['distance_matrix'])\r\n"
   ]
  }
 ],
 "metadata": {
  "interpreter": {
   "hash": "2462a5e6d325a4f7fb86b9687f65f4e6709c3b54df771fa1746f94613b41bdab"
  },
  "kernelspec": {
   "display_name": "Python 3.8.10 64-bit",
   "name": "python3"
  },
  "language_info": {
   "codemirror_mode": {
    "name": "ipython",
    "version": 3
   },
   "file_extension": ".py",
   "mimetype": "text/x-python",
   "name": "python",
   "nbconvert_exporter": "python",
   "pygments_lexer": "ipython3",
   "version": "3.8.10"
  },
  "orig_nbformat": 4
 },
 "nbformat": 4,
 "nbformat_minor": 2
}