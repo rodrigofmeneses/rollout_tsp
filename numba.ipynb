{
 "metadata": {
  "language_info": {
   "codemirror_mode": {
    "name": "ipython",
    "version": 3
   },
   "file_extension": ".py",
   "mimetype": "text/x-python",
   "name": "python",
   "nbconvert_exporter": "python",
   "pygments_lexer": "ipython3",
   "version": "3.8.5-final"
  },
  "orig_nbformat": 2,
  "kernelspec": {
   "name": "python3",
   "display_name": "Python 3",
   "language": "python"
  }
 },
 "nbformat": 4,
 "nbformat_minor": 2,
 "cells": [
  {
   "cell_type": "code",
   "execution_count": 37,
   "metadata": {},
   "outputs": [],
   "source": [
    "import numpy as np\n",
    "import networkx as nx\n",
    "import time\n",
    "from numba import jit"
   ]
  },
  {
   "cell_type": "code",
   "execution_count": 93,
   "metadata": {},
   "outputs": [],
   "source": [
    "from tsp_rol import TSPR"
   ]
  },
  {
   "cell_type": "code",
   "execution_count": 38,
   "metadata": {},
   "outputs": [],
   "source": [
    "def create_model(path):\n",
    "    \"\"\"\n",
    "        Create Graph representation and MDP variables with number of states designated\n",
    "        path: path of instance\n",
    "    \"\"\"\n",
    "    data_format = path.split('/')[1]\n",
    "    \n",
    "    if data_format == 'edge_explicity':\n",
    "        return read_edge_explicity_instances(path)\n",
    "\n",
    "    elif data_format == 'node_coordinate':\n",
    "        return read_node_coordinate_instances(path)\n",
    "    else:\n",
    "        raise Exception"
   ]
  },
  {
   "cell_type": "code",
   "execution_count": 57,
   "metadata": {},
   "outputs": [],
   "source": [
    "def read_edge_explicity_instances(path):\n",
    "    '''\n",
    "        Read explicity edge instance\n",
    "        path: path of instance\n",
    "        ex:\n",
    "\n",
    "        5   \t\t\t <- number of nodes\n",
    "        1231 232 12 122  <- edges (0,1)(0,2)(0,3)(0,4)\n",
    "        336 1161 717 \t <- edges (1,2)(1,3)(1,4)\n",
    "        848 323\t\t\t <- edges (2,3)(2,4)\n",
    "        212\t\t\t\t <- edges (3,4)\n",
    "\n",
    "        return: Graph with weights\n",
    "    '''\n",
    "    with open(path) as reader:\n",
    "        # # Complete graph\n",
    "        G = nx.complete_graph(int(reader.readline()))\n",
    "        for i in range(G.number_of_nodes()):\n",
    "            # Read lines to set weights\n",
    "            nbrs_i = [int(x) for x in reader.readline().split()]\n",
    "            for j, w in enumerate(nbrs_i, i + 1):\n",
    "                G.edges[i, j]['w'] = w\n",
    "                G.edges[j, i]['w'] = w\n",
    "    return G"
   ]
  },
  {
   "cell_type": "code",
   "execution_count": 58,
   "metadata": {},
   "outputs": [],
   "source": [
    "def read_node_coordinate_instances(path):\n",
    "    '''\n",
    "        Read node coordinate instances\n",
    "        path: path of instance\n",
    "        ex:\n",
    "\n",
    "        5     <- number of nodes\n",
    "        1 1   <- node 0, coordinate (x, y) = (1, 1) \n",
    "        2 3   <- node 0, coordinate (x, y) = (2, 3) \t\n",
    "        4 5   <- node 0, coordinate (x, y) = (4, 5) \n",
    "        3 3   <- node 0, coordinate (x, y) = (3, 3) \n",
    "        7 5   <- node 0, coordinate (x, y) = (7, 5) \n",
    "\n",
    "        return: Graph with weights\n",
    "    '''\n",
    "    with open(path) as reader:\n",
    "        G = nx.complete_graph(int(reader.readline()))\n",
    "        X = []\n",
    "        Y = []\n",
    "        for _ in range(G.number_of_nodes()):\n",
    "            x, y = reader.readline().split()\n",
    "            X.append(float(x))\n",
    "            Y.append(float(y))\n",
    "        coordinates = np.array(list(zip(X, Y)))\n",
    "        dist_matrix = squareform(pdist(coordinates))\n",
    "        for i in range(G.number_of_nodes()):\n",
    "            for j in range(G.number_of_nodes()):\n",
    "                if i != j:\n",
    "                    G.edges[i, j]['w'] = dist_matrix[i, j]\n",
    "                    G.edges[j, i]['w'] = dist_matrix[j, i]\n",
    "    return G"
   ]
  },
  {
   "cell_type": "code",
   "execution_count": 82,
   "metadata": {},
   "outputs": [],
   "source": [
    "@jit(nopython=True)\n",
    "def update_adj_mat(tour):\n",
    "    '''\n",
    "        Adjacency matrix to nn algorithm purposes\n",
    "        tour: partial ou complete tour to create adjacency matrix, ex:\n",
    "        [0, 2, 4]  < for 5 cities [0, 1, 2, 3, 4, 5] and starting city is 0 \n",
    "        neighbor with travel cost equal inf is never a good option, \n",
    "        so cities in tour recieve this travel cost.\n",
    "        return: adjacency matrix\n",
    "    '''\n",
    "    # Adjacency matrix\n",
    "    #adj_mat = np.array(nx.adjacency_matrix(G, weight='w').todense(), dtype=float)\n",
    "    adj_mat = ADJ_MAT.copy()\n",
    "    # set main diagonal to inf\n",
    "    for i in range(NUM_CITIES): adj_mat[i][i] = np.inf\n",
    "    # set elements of current tour to inf\n",
    "    for i in range(NUM_CITIES):\n",
    "        for t in tour[:-1]:\n",
    "            adj_mat[i][t] = np.inf\n",
    "    return adj_mat"
   ]
  },
  {
   "cell_type": "code",
   "execution_count": 104,
   "metadata": {},
   "outputs": [],
   "source": [
    "@jit(nopython=True)\n",
    "def calculate_cost(tour):\n",
    "    '''\n",
    "        Calc cost of tour.\n",
    "        tour: tour of traveler, ex:\n",
    "        [0, 2, 4, 1, 3, 0]  <- for 5 cities and starting city is 0 \n",
    "        return: cost of tour\n",
    "    '''\n",
    "    cost = 0\n",
    "    for i in range(NUM_CITIES):\n",
    "        cost += ADJ_MAT[tour[i]][tour[i+1]]\n",
    "    return cost"
   ]
  },
  {
   "cell_type": "code",
   "execution_count": 87,
   "metadata": {},
   "outputs": [],
   "source": [
    "@jit(nopython=True)\n",
    "def nearest_neighbor(tour):\n",
    "    '''\n",
    "        Base heuristic to rollout algorithm, the main difference of traditional \n",
    "        nearest neighbor algorithm is the beginning  with a partial tour (solution), ex:\n",
    "        tour is list of nodes [0, 1, 2], for 5 cities and starting city is 0,\n",
    "        the return is a complete tour, in the form [0, 1, 2, 4, 3, 0] and cost of tour \n",
    "        \n",
    "    '''\n",
    "    adj_mat = update_adj_mat(tour)\n",
    "    # Complete tour \n",
    "    for _ in range(NUM_CITIES - len(tour)):\n",
    "        min_index = np.argmin(adj_mat[tour[-1]])\n",
    "        for t in tour:\n",
    "            adj_mat[min_index][t] = np.inf\n",
    "            adj_mat[t][min_index] = np.inf\n",
    "        tour.append(min_index)\n",
    "    tour.append(tour[0])\n",
    "    # Return complete tour\n",
    "    return tour"
   ]
  },
  {
   "cell_type": "code",
   "execution_count": 107,
   "metadata": {},
   "outputs": [],
   "source": [
    "def rollout_algorithm(G, starting_node):\n",
    "    tour = [starting_node]\n",
    "\n",
    "    for i in range(NUM_CITIES - 1):\n",
    "        current_tour = tour.copy()\n",
    "        best_rollout_cost = np.inf\n",
    "        best_next_city = None\n",
    "        \n",
    "        for j in set(G[tour[-1]]) - set(tour):\n",
    "            current_tour.append(j)\n",
    "\n",
    "            nn_path = nearest_neighbor(current_tour.copy())\n",
    "            rollout_cost = calculate_cost(nn_path)\n",
    "            if rollout_cost < best_rollout_cost:\n",
    "                best_rollout_cost = rollout_cost\n",
    "                best_next_city = j\n",
    "            \n",
    "            current_tour.pop()\n",
    "        tour.append(best_next_city)\n",
    "    tour.append(starting_node)\n",
    "\n",
    "    return tour, calculate_cost(tour)"
   ]
  },
  {
   "cell_type": "code",
   "execution_count": 108,
   "metadata": {},
   "outputs": [],
   "source": [
    "# globals\n",
    "G = create_model('instances/edge_explicity/brazil58.tsp')\n",
    "ADJ_MAT = np.array(nx.adjacency_matrix(G, weight='w').todense(), dtype=float)\n",
    "NUM_CITIES = G.number_of_nodes()"
   ]
  },
  {
   "cell_type": "code",
   "execution_count": 94,
   "metadata": {},
   "outputs": [],
   "source": [
    "exp = TSPR('instances/edge_explicity/brazil58.tsp')"
   ]
  },
  {
   "cell_type": "code",
   "execution_count": 102,
   "metadata": {},
   "outputs": [
    {
     "output_type": "stream",
     "name": "stdout",
     "text": [
      "Time elapsed:  6.074638366699219\n"
     ]
    }
   ],
   "source": [
    "start = time.time()\n",
    "for i in range(1000):\n",
    "    exp.nearest_neighbor([0])\n",
    "end = time.time()\n",
    "\n",
    "print('Time elapsed: ', end - start)"
   ]
  },
  {
   "cell_type": "code",
   "execution_count": 103,
   "metadata": {},
   "outputs": [
    {
     "output_type": "stream",
     "name": "stdout",
     "text": [
      "Time elapsed:  0.02701735496520996\n"
     ]
    }
   ],
   "source": [
    "# With numba\n",
    "start = time.time()\n",
    "for i in range(1000):\n",
    "    nearest_neighbor([0])\n",
    "end = time.time()\n",
    "\n",
    "print('Time elapsed: ', end - start)"
   ]
  },
  {
   "cell_type": "code",
   "execution_count": null,
   "metadata": {},
   "outputs": [],
   "source": []
  }
 ]
}