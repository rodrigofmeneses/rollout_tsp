{
 "metadata": {
  "language_info": {
   "codemirror_mode": {
    "name": "ipython",
    "version": 3
   },
   "file_extension": ".py",
   "mimetype": "text/x-python",
   "name": "python",
   "nbconvert_exporter": "python",
   "pygments_lexer": "ipython3",
   "version": "3.8.5-final"
  },
  "orig_nbformat": 2,
  "kernelspec": {
   "name": "python3",
   "display_name": "Python 3",
   "language": "python"
  }
 },
 "nbformat": 4,
 "nbformat_minor": 2,
 "cells": [
  {
   "cell_type": "code",
   "execution_count": 1,
   "metadata": {},
   "outputs": [],
   "source": [
    "import numpy as np\n",
    "import networkx as nx\n",
    "import time\n",
    "import read_instances as ri\n",
    "from numba import jit"
   ]
  },
  {
   "cell_type": "code",
   "execution_count": 2,
   "metadata": {},
   "outputs": [],
   "source": [
    "def create_model(path):\n",
    "    \"\"\"\n",
    "        Create Graph representation and MDP variables with number of states designated\n",
    "        path: path of instance\n",
    "    \"\"\"\n",
    "    data_format = path.split('/')[1]\n",
    "    \n",
    "    if data_format == 'edge_explicity':\n",
    "        return ri.read_edge_explicity_instances(path)\n",
    "\n",
    "    elif data_format == 'node_coordinate':\n",
    "        return ri.read_node_coordinate_instances(path)\n",
    "    else:\n",
    "        raise Exception"
   ]
  },
  {
   "cell_type": "code",
   "execution_count": 3,
   "metadata": {},
   "outputs": [],
   "source": [
    "@jit(nopython=True)\n",
    "def update_adj_mat(tour):\n",
    "    '''\n",
    "        Adjacency matrix to nn algorithm purposes\n",
    "        tour: partial ou complete tour to create adjacency matrix, ex:\n",
    "        [0, 2, 4]  < for 5 cities [0, 1, 2, 3, 4, 5] and starting city is 0 \n",
    "        neighbor with travel cost equal inf is never a good option, \n",
    "        so cities in tour recieve this travel cost.\n",
    "        return: adjacency matrix\n",
    "    '''\n",
    "    # Adjacency matrix\n",
    "    #adj_mat = np.array(nx.adjacency_matrix(G, weight='w').todense(), dtype=float)\n",
    "    adj_mat = ADJ_MAT.copy()\n",
    "    # set main diagonal to inf\n",
    "    for i in range(NUM_CITIES): adj_mat[i][i] = np.inf\n",
    "    # set elements of current tour to inf\n",
    "    for i in range(NUM_CITIES):\n",
    "        for t in tour[:-1]:\n",
    "            adj_mat[i][t] = np.inf\n",
    "    return adj_mat"
   ]
  },
  {
   "cell_type": "code",
   "execution_count": 4,
   "metadata": {},
   "outputs": [],
   "source": [
    "@jit(nopython=True)\n",
    "def calculate_cost(tour):\n",
    "    '''\n",
    "        Calc cost of tour.\n",
    "        tour: tour of traveler, ex:\n",
    "        [0, 2, 4, 1, 3, 0]  <- for 5 cities and starting city is 0 \n",
    "        return: cost of tour\n",
    "    '''\n",
    "    cost = 0.\n",
    "    for i in range(NUM_CITIES):\n",
    "        cost += ADJ_MAT[tour[i]][tour[i+1]]\n",
    "    return cost"
   ]
  },
  {
   "cell_type": "code",
   "execution_count": 5,
   "metadata": {},
   "outputs": [],
   "source": [
    "@jit(nopython=True)\n",
    "def nearest_neighbor(tour):\n",
    "    '''\n",
    "        Base heuristic to rollout algorithm, the main difference of traditional \n",
    "        nearest neighbor algorithm is the beginning  with a partial tour (solution), ex:\n",
    "        tour is list of nodes [0, 1, 2], for 5 cities and starting city is 0,\n",
    "        the return is a complete tour, in the form [0, 1, 2, 4, 3, 0] and cost of tour \n",
    "        \n",
    "    '''\n",
    "    adj_mat = update_adj_mat(tour)\n",
    "    # Complete tour \n",
    "    for _ in range(NUM_CITIES - len(tour)):\n",
    "        min_index = np.argmin(adj_mat[tour[-1]])\n",
    "        for t in tour:\n",
    "            adj_mat[min_index][t] = np.inf\n",
    "            adj_mat[t][min_index] = np.inf\n",
    "        tour.append(min_index)\n",
    "    tour.append(tour[0])\n",
    "    # Return complete tour\n",
    "    return tour"
   ]
  },
  {
   "cell_type": "code",
   "execution_count": 6,
   "metadata": {},
   "outputs": [],
   "source": [
    "def rollout_algorithm(G, starting_node):\n",
    "    tour = [starting_node]\n",
    "\n",
    "    for i in range(NUM_CITIES - 1):\n",
    "        current_tour = tour.copy()\n",
    "        best_rollout_cost = np.inf\n",
    "        best_next_city = None\n",
    "        \n",
    "        for j in set(G[tour[-1]]) - set(tour):\n",
    "            current_tour.append(j)\n",
    "\n",
    "            nn_path = nearest_neighbor(current_tour.copy())\n",
    "            rollout_cost = calculate_cost(nn_path)\n",
    "            if rollout_cost < best_rollout_cost:\n",
    "                best_rollout_cost = rollout_cost\n",
    "                best_next_city = j\n",
    "            \n",
    "            current_tour.pop()\n",
    "        tour.append(best_next_city)\n",
    "    tour.append(starting_node)\n",
    "\n",
    "    return tour, calculate_cost(tour)"
   ]
  },
  {
   "cell_type": "code",
   "execution_count": 8,
   "metadata": {},
   "outputs": [
    {
     "output_type": "stream",
     "name": "stdout",
     "text": [
      "Custo do rollout tour:  27239.0\nTempo do rollout algorithm:  1.3422954082489014\nCusto do nn tour:  32231.0\nTempo do nn algorithm:  0.0\n"
     ]
    }
   ],
   "source": [
    "def experiments_with(file_path):\n",
    "    global ADJ_MAT\n",
    "    global NUM_CITIES\n",
    "    \n",
    "    G = create_model(file_path)\n",
    "    ADJ_MAT = np.array(nx.adjacency_matrix(G, weight='w').todense(), dtype=float)\n",
    "    NUM_CITIES = G.number_of_nodes()\n",
    "\n",
    "    starting_node = int(np.random.choice(range(NUM_CITIES)))\n",
    "\n",
    "    start = time.time()\n",
    "    rollout_tour, rollout_cost = rollout_algorithm(G, starting_node)\n",
    "    rollout_time = time.time() - start\n",
    "    \n",
    "    start = time.time()\n",
    "    nn_tour = nearest_neighbor([starting_node])\n",
    "    nn_time = time.time() - start\n",
    "    print('Custo do rollout tour: ', rollout_cost)\n",
    "    print('Tempo do rollout algorithm: ', rollout_time)\n",
    "    print('Custo do nn tour: ', calculate_cost(nn_tour))\n",
    "    print('Tempo do nn algorithm: ', nn_time)\n",
    "\n",
    "experiments_with('instances/edge_explicity/brazil58.tsp')"
   ]
  },
  {
   "cell_type": "code",
   "execution_count": null,
   "metadata": {},
   "outputs": [],
   "source": []
  }
 ]
}