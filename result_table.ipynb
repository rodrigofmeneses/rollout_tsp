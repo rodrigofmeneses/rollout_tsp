{
 "metadata": {
  "language_info": {
   "codemirror_mode": {
    "name": "ipython",
    "version": 3
   },
   "file_extension": ".py",
   "mimetype": "text/x-python",
   "name": "python",
   "nbconvert_exporter": "python",
   "pygments_lexer": "ipython3",
   "version": "3.9.1-final"
  },
  "orig_nbformat": 2,
  "kernelspec": {
   "name": "python3",
   "display_name": "Python 3.9.1 64-bit",
   "metadata": {
    "interpreter": {
     "hash": "81501fb6968db567c48e2f6497df9bfcfab897da0876ab26c596c8e980f4fbda"
    }
   }
  }
 },
 "nbformat": 4,
 "nbformat_minor": 2,
 "cells": [
  {
   "cell_type": "code",
   "execution_count": 2,
   "metadata": {},
   "outputs": [],
   "source": [
    "import pandas as pd"
   ]
  },
  {
   "cell_type": "code",
   "execution_count": 42,
   "metadata": {},
   "outputs": [],
   "source": [
    "exp = pd.read_csv('experiments/results - 10x.txt')"
   ]
  },
  {
   "cell_type": "code",
   "execution_count": 57,
   "metadata": {},
   "outputs": [
    {
     "output_type": "execute_result",
     "data": {
      "text/plain": [
       "   instance_name       rol_cost     rol_time        nn_cost   nn_time    best  \\\n",
       "0     bayg29.tsp    1817.300000     0.573286    2031.600000  0.001280    1610   \n",
       "1     bays29.tsp    2173.900000     0.576274    2365.800000  0.001601    2020   \n",
       "2   brazil58.tsp   27347.400000     9.174397   30256.000000  0.005401   25395   \n",
       "3      att48.tsp   37353.846679     4.217316   41475.391402  0.003333   10628   \n",
       "4    bier127.tsp  130722.903435   251.157303  147686.825150  0.046020  118282   \n",
       "5     eil101.tsp     729.268962    89.237202     797.021803  0.015218     426   \n",
       "6    kroA100.tsp   24382.369200    85.639802   27097.943260  0.015103   21282   \n",
       "7    kroD100.tsp   24809.196934    85.895239   27253.620058  0.037313   21294   \n",
       "8       pr76.tsp  129902.346504    28.230517  150810.802803  0.009103  108159   \n",
       "9      rat99.tsp    1360.406255    85.874559    1492.352817  0.014604    1211   \n",
       "10    tsp225.tsp    9269.715732  2472.850794   10074.238117  0.108262    3919   \n",
       "\n",
       "    rol_%  nn_%  \n",
       "0     0.0   0.0  \n",
       "1     0.0   0.0  \n",
       "2     0.0   0.0  \n",
       "3     0.0   0.0  \n",
       "4     0.0   0.0  \n",
       "5     0.0   0.0  \n",
       "6     0.0   0.0  \n",
       "7     0.0   0.0  \n",
       "8     0.0   0.0  \n",
       "9     0.0   0.0  \n",
       "10    0.0   0.0  "
      ],
      "text/html": "<div>\n<style scoped>\n    .dataframe tbody tr th:only-of-type {\n        vertical-align: middle;\n    }\n\n    .dataframe tbody tr th {\n        vertical-align: top;\n    }\n\n    .dataframe thead th {\n        text-align: right;\n    }\n</style>\n<table border=\"1\" class=\"dataframe\">\n  <thead>\n    <tr style=\"text-align: right;\">\n      <th></th>\n      <th>instance_name</th>\n      <th>rol_cost</th>\n      <th>rol_time</th>\n      <th>nn_cost</th>\n      <th>nn_time</th>\n      <th>best</th>\n      <th>rol_%</th>\n      <th>nn_%</th>\n    </tr>\n  </thead>\n  <tbody>\n    <tr>\n      <th>0</th>\n      <td>bayg29.tsp</td>\n      <td>1817.300000</td>\n      <td>0.573286</td>\n      <td>2031.600000</td>\n      <td>0.001280</td>\n      <td>1610</td>\n      <td>0.0</td>\n      <td>0.0</td>\n    </tr>\n    <tr>\n      <th>1</th>\n      <td>bays29.tsp</td>\n      <td>2173.900000</td>\n      <td>0.576274</td>\n      <td>2365.800000</td>\n      <td>0.001601</td>\n      <td>2020</td>\n      <td>0.0</td>\n      <td>0.0</td>\n    </tr>\n    <tr>\n      <th>2</th>\n      <td>brazil58.tsp</td>\n      <td>27347.400000</td>\n      <td>9.174397</td>\n      <td>30256.000000</td>\n      <td>0.005401</td>\n      <td>25395</td>\n      <td>0.0</td>\n      <td>0.0</td>\n    </tr>\n    <tr>\n      <th>3</th>\n      <td>att48.tsp</td>\n      <td>37353.846679</td>\n      <td>4.217316</td>\n      <td>41475.391402</td>\n      <td>0.003333</td>\n      <td>10628</td>\n      <td>0.0</td>\n      <td>0.0</td>\n    </tr>\n    <tr>\n      <th>4</th>\n      <td>bier127.tsp</td>\n      <td>130722.903435</td>\n      <td>251.157303</td>\n      <td>147686.825150</td>\n      <td>0.046020</td>\n      <td>118282</td>\n      <td>0.0</td>\n      <td>0.0</td>\n    </tr>\n    <tr>\n      <th>5</th>\n      <td>eil101.tsp</td>\n      <td>729.268962</td>\n      <td>89.237202</td>\n      <td>797.021803</td>\n      <td>0.015218</td>\n      <td>426</td>\n      <td>0.0</td>\n      <td>0.0</td>\n    </tr>\n    <tr>\n      <th>6</th>\n      <td>kroA100.tsp</td>\n      <td>24382.369200</td>\n      <td>85.639802</td>\n      <td>27097.943260</td>\n      <td>0.015103</td>\n      <td>21282</td>\n      <td>0.0</td>\n      <td>0.0</td>\n    </tr>\n    <tr>\n      <th>7</th>\n      <td>kroD100.tsp</td>\n      <td>24809.196934</td>\n      <td>85.895239</td>\n      <td>27253.620058</td>\n      <td>0.037313</td>\n      <td>21294</td>\n      <td>0.0</td>\n      <td>0.0</td>\n    </tr>\n    <tr>\n      <th>8</th>\n      <td>pr76.tsp</td>\n      <td>129902.346504</td>\n      <td>28.230517</td>\n      <td>150810.802803</td>\n      <td>0.009103</td>\n      <td>108159</td>\n      <td>0.0</td>\n      <td>0.0</td>\n    </tr>\n    <tr>\n      <th>9</th>\n      <td>rat99.tsp</td>\n      <td>1360.406255</td>\n      <td>85.874559</td>\n      <td>1492.352817</td>\n      <td>0.014604</td>\n      <td>1211</td>\n      <td>0.0</td>\n      <td>0.0</td>\n    </tr>\n    <tr>\n      <th>10</th>\n      <td>tsp225.tsp</td>\n      <td>9269.715732</td>\n      <td>2472.850794</td>\n      <td>10074.238117</td>\n      <td>0.108262</td>\n      <td>3919</td>\n      <td>0.0</td>\n      <td>0.0</td>\n    </tr>\n  </tbody>\n</table>\n</div>"
     },
     "metadata": {},
     "execution_count": 57
    }
   ],
   "source": [
    "exp['rol_%'] = 0.\n",
    "exp['nn_%'] = 0.\n",
    "exp"
   ]
  },
  {
   "cell_type": "code",
   "execution_count": 58,
   "metadata": {},
   "outputs": [],
   "source": [
    "for i in exp.index:\n",
    "    exp.at[i, 'rol_%'] = 100 * (exp.loc[i]['best'] / exp.loc[i]['rol_cost'])\n",
    "    exp.at[i, 'nn_%'] = 100 * (exp.loc[i]['best'] / exp.loc[i]['nn_cost'])"
   ]
  },
  {
   "cell_type": "code",
   "execution_count": 59,
   "metadata": {},
   "outputs": [
    {
     "output_type": "execute_result",
     "data": {
      "text/plain": [
       "   instance_name       rol_cost     rol_time        nn_cost   nn_time    best  \\\n",
       "0     bayg29.tsp    1817.300000     0.573286    2031.600000  0.001280    1610   \n",
       "1     bays29.tsp    2173.900000     0.576274    2365.800000  0.001601    2020   \n",
       "2   brazil58.tsp   27347.400000     9.174397   30256.000000  0.005401   25395   \n",
       "3      att48.tsp   37353.846679     4.217316   41475.391402  0.003333   10628   \n",
       "4    bier127.tsp  130722.903435   251.157303  147686.825150  0.046020  118282   \n",
       "5     eil101.tsp     729.268962    89.237202     797.021803  0.015218     426   \n",
       "6    kroA100.tsp   24382.369200    85.639802   27097.943260  0.015103   21282   \n",
       "7    kroD100.tsp   24809.196934    85.895239   27253.620058  0.037313   21294   \n",
       "8       pr76.tsp  129902.346504    28.230517  150810.802803  0.009103  108159   \n",
       "9      rat99.tsp    1360.406255    85.874559    1492.352817  0.014604    1211   \n",
       "10    tsp225.tsp    9269.715732  2472.850794   10074.238117  0.108262    3919   \n",
       "\n",
       "        rol_%       nn_%  \n",
       "0   88.592968  79.247883  \n",
       "1   92.920558  85.383380  \n",
       "2   92.860747  83.933765  \n",
       "3   28.452224  25.624834  \n",
       "4   90.482996  80.089744  \n",
       "5   58.414662  53.448977  \n",
       "6   87.284381  78.537326  \n",
       "7   85.831073  78.132740  \n",
       "8   83.261775  71.718337  \n",
       "9   89.017527  81.147031  \n",
       "10  42.277456  38.901205  "
      ],
      "text/html": "<div>\n<style scoped>\n    .dataframe tbody tr th:only-of-type {\n        vertical-align: middle;\n    }\n\n    .dataframe tbody tr th {\n        vertical-align: top;\n    }\n\n    .dataframe thead th {\n        text-align: right;\n    }\n</style>\n<table border=\"1\" class=\"dataframe\">\n  <thead>\n    <tr style=\"text-align: right;\">\n      <th></th>\n      <th>instance_name</th>\n      <th>rol_cost</th>\n      <th>rol_time</th>\n      <th>nn_cost</th>\n      <th>nn_time</th>\n      <th>best</th>\n      <th>rol_%</th>\n      <th>nn_%</th>\n    </tr>\n  </thead>\n  <tbody>\n    <tr>\n      <th>0</th>\n      <td>bayg29.tsp</td>\n      <td>1817.300000</td>\n      <td>0.573286</td>\n      <td>2031.600000</td>\n      <td>0.001280</td>\n      <td>1610</td>\n      <td>88.592968</td>\n      <td>79.247883</td>\n    </tr>\n    <tr>\n      <th>1</th>\n      <td>bays29.tsp</td>\n      <td>2173.900000</td>\n      <td>0.576274</td>\n      <td>2365.800000</td>\n      <td>0.001601</td>\n      <td>2020</td>\n      <td>92.920558</td>\n      <td>85.383380</td>\n    </tr>\n    <tr>\n      <th>2</th>\n      <td>brazil58.tsp</td>\n      <td>27347.400000</td>\n      <td>9.174397</td>\n      <td>30256.000000</td>\n      <td>0.005401</td>\n      <td>25395</td>\n      <td>92.860747</td>\n      <td>83.933765</td>\n    </tr>\n    <tr>\n      <th>3</th>\n      <td>att48.tsp</td>\n      <td>37353.846679</td>\n      <td>4.217316</td>\n      <td>41475.391402</td>\n      <td>0.003333</td>\n      <td>10628</td>\n      <td>28.452224</td>\n      <td>25.624834</td>\n    </tr>\n    <tr>\n      <th>4</th>\n      <td>bier127.tsp</td>\n      <td>130722.903435</td>\n      <td>251.157303</td>\n      <td>147686.825150</td>\n      <td>0.046020</td>\n      <td>118282</td>\n      <td>90.482996</td>\n      <td>80.089744</td>\n    </tr>\n    <tr>\n      <th>5</th>\n      <td>eil101.tsp</td>\n      <td>729.268962</td>\n      <td>89.237202</td>\n      <td>797.021803</td>\n      <td>0.015218</td>\n      <td>426</td>\n      <td>58.414662</td>\n      <td>53.448977</td>\n    </tr>\n    <tr>\n      <th>6</th>\n      <td>kroA100.tsp</td>\n      <td>24382.369200</td>\n      <td>85.639802</td>\n      <td>27097.943260</td>\n      <td>0.015103</td>\n      <td>21282</td>\n      <td>87.284381</td>\n      <td>78.537326</td>\n    </tr>\n    <tr>\n      <th>7</th>\n      <td>kroD100.tsp</td>\n      <td>24809.196934</td>\n      <td>85.895239</td>\n      <td>27253.620058</td>\n      <td>0.037313</td>\n      <td>21294</td>\n      <td>85.831073</td>\n      <td>78.132740</td>\n    </tr>\n    <tr>\n      <th>8</th>\n      <td>pr76.tsp</td>\n      <td>129902.346504</td>\n      <td>28.230517</td>\n      <td>150810.802803</td>\n      <td>0.009103</td>\n      <td>108159</td>\n      <td>83.261775</td>\n      <td>71.718337</td>\n    </tr>\n    <tr>\n      <th>9</th>\n      <td>rat99.tsp</td>\n      <td>1360.406255</td>\n      <td>85.874559</td>\n      <td>1492.352817</td>\n      <td>0.014604</td>\n      <td>1211</td>\n      <td>89.017527</td>\n      <td>81.147031</td>\n    </tr>\n    <tr>\n      <th>10</th>\n      <td>tsp225.tsp</td>\n      <td>9269.715732</td>\n      <td>2472.850794</td>\n      <td>10074.238117</td>\n      <td>0.108262</td>\n      <td>3919</td>\n      <td>42.277456</td>\n      <td>38.901205</td>\n    </tr>\n  </tbody>\n</table>\n</div>"
     },
     "metadata": {},
     "execution_count": 59
    }
   ],
   "source": [
    "exp"
   ]
  },
  {
   "cell_type": "code",
   "execution_count": 60,
   "metadata": {},
   "outputs": [
    {
     "output_type": "stream",
     "name": "stdout",
     "text": [
      "83.93963668131957\n75.61652210968937\n"
     ]
    }
   ],
   "source": [
    "rol_mean = 0\n",
    "nn_mean = 0\n",
    "for i in exp.index:\n",
    "    rol_mean += exp.loc[i]['rol_%']\n",
    "    nn_mean += exp.loc[i]['nn_%']\n",
    "print(rol_mean / 10)\n",
    "print(nn_mean / 10)"
   ]
  }
 ]
}